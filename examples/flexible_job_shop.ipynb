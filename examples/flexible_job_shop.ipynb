{
 "cells": [
  {
   "cell_type": "markdown",
   "id": "0",
   "metadata": {},
   "source": [
    "# Flexible job shop\n",
    "[![Open In Colab](https://colab.research.google.com/assets/colab-badge.svg)](https://githubtocolab.com/PyJobShop/PyJobShop/blob/main/examples/flexible_job_shop.ipynb)\n",
    "\n",
    "> If you're using this notebook in Google Colab, be sure to install PyJobShop first by executing ```pip install pyjobshop``` in a cell.\n",
    "\n",
    "In this notebook, we show you how to model and solve a flexible job shop problem with PyJobShop."
   ]
  },
  {
   "cell_type": "markdown",
   "id": "1",
   "metadata": {},
   "source": [
    "The Flexible Job Shop Problem (FJSP) is a commonly studied scheduling problem that generalizes many known scheduling problem variants. \n",
    "In the FJSP, there is a set of machines and a set of jobs.\n",
    "Each job is composed of a sequence of tasks, which must be processed in the given sequence.\n",
    "Each task needs to be processed by exactly one machine that is selected from a set of eligible machines.\n",
    "The main goal of the FJSP is commonly to minimize the makespan."
   ]
  },
  {
   "cell_type": "markdown",
   "id": "2",
   "metadata": {},
   "source": [
    "## Data"
   ]
  },
  {
   "cell_type": "markdown",
   "id": "3",
   "metadata": {},
   "source": [
    "Let's consider a simple example from [Google OR-Tools](https://github.com/google/or-tools/blob/master/examples/python/flexible_job_shop_sat.py). Below we have a data instance with three machines and three jobs, each job consisting of three consecutive tasks."
   ]
  },
  {
   "cell_type": "code",
   "execution_count": 1,
   "id": "4",
   "metadata": {
    "ExecuteTime": {
     "end_time": "2025-03-14T13:23:26.241825Z",
     "start_time": "2025-03-14T13:23:26.237031Z"
    }
   },
   "outputs": [],
   "source": [
    "NUM_MACHINES = 3\n",
    "\n",
    "# Each job consists of a list of tasks. A task is represented\n",
    "# by a list of tuples (processing_time, machine), denoting the eligible\n",
    "# machine assignments and corresponding processing times.\n",
    "data = [\n",
    "    [  # Job with three tasks\n",
    "        [(3, 0), (1, 1), (5, 2)],  # task with three eligible machines\n",
    "        [(2, 0), (4, 1)],  # task with two eligible machines\n",
    "        [(2, 0), (3, 1)],\n",
    "    ],\n",
    "    [\n",
    "        [(2, 0), (3, 1), (4, 2)],\n",
    "        [(1, 0), (4, 2)],\n",
    "        [(2, 0), (4, 2)],\n",
    "    ],\n",
    "    [\n",
    "        [(2, 0), (1, 1), (4, 2)],\n",
    "        [(3, 1), (4, 2)],\n",
    "        [(1, 1), (5, 2)],\n",
    "    ],\n",
    "]"
   ]
  },
  {
   "cell_type": "markdown",
   "id": "5",
   "metadata": {},
   "source": [
    "## Model"
   ]
  },
  {
   "cell_type": "code",
   "execution_count": 2,
   "id": "6",
   "metadata": {
    "ExecuteTime": {
     "end_time": "2025-03-14T13:23:42.632029Z",
     "start_time": "2025-03-14T13:23:41.843125Z"
    }
   },
   "outputs": [],
   "source": [
    "from pyjobshop import Model\n",
    "\n",
    "m = Model()"
   ]
  },
  {
   "cell_type": "markdown",
   "id": "8878bf7d39675b58",
   "metadata": {},
   "source": [
    "Data objects such as machines, jobs and tasks can be created with the `Model.add_*` method.\n",
    "Each task is associated with its corresponding job upon creation."
   ]
  },
  {
   "cell_type": "code",
   "execution_count": 3,
   "id": "8",
   "metadata": {
    "ExecuteTime": {
     "end_time": "2025-03-14T13:23:48.869535Z",
     "start_time": "2025-03-14T13:23:48.864788Z"
    }
   },
   "outputs": [],
   "source": [
    "machines = [\n",
    "    m.add_machine(name=f\"Machine {idx}\") for idx in range(NUM_MACHINES)\n",
    "]"
   ]
  },
  {
   "cell_type": "code",
   "execution_count": 4,
   "id": "9",
   "metadata": {
    "ExecuteTime": {
     "end_time": "2024-11-14T12:04:04.855815Z",
     "start_time": "2024-11-14T12:04:04.843590Z"
    }
   },
   "outputs": [],
   "source": [
    "jobs = {}\n",
    "tasks = {}\n",
    "\n",
    "for job_idx, job_data in enumerate(data):\n",
    "    job = m.add_job(name=f\"Job {job_idx}\")\n",
    "    jobs[job_idx] = job\n",
    "\n",
    "    for idx in range(len(job_data)):\n",
    "        task_idx = (job_idx, idx)\n",
    "        tasks[task_idx] = m.add_task(job, name=f\"$T_{{{job_idx}{idx}}}$\")"
   ]
  },
  {
   "cell_type": "markdown",
   "id": "4df07051cbfc3f15",
   "metadata": {},
   "source": [
    "There are two more things that we need to add to the model:\n",
    "\n",
    "- Processing times of specific task and machine combinations must be set; and\n",
    "- tasks of the same job must be processed in a given order."
   ]
  },
  {
   "cell_type": "code",
   "execution_count": 5,
   "id": "11",
   "metadata": {
    "ExecuteTime": {
     "end_time": "2024-11-14T12:04:04.870968Z",
     "start_time": "2024-11-14T12:04:04.859747Z"
    }
   },
   "outputs": [],
   "source": [
    "for job_idx, job_data in enumerate(data):\n",
    "    for idx, task_data in enumerate(job_data):\n",
    "        task = tasks[(job_idx, idx)]\n",
    "\n",
    "        for duration, machine_idx in task_data:\n",
    "            machine = machines[machine_idx]\n",
    "            m.add_mode(task, machine, duration)\n",
    "\n",
    "    for idx in range(len(job_data) - 1):\n",
    "        first = tasks[(job_idx, idx)]\n",
    "        second = tasks[(job_idx, idx + 1)]\n",
    "        m.add_end_before_start(first, second)"
   ]
  },
  {
   "cell_type": "markdown",
   "id": "12",
   "metadata": {},
   "source": [
    "Now that we have our model setup correctly, we can solve the model."
   ]
  },
  {
   "cell_type": "code",
   "execution_count": 6,
   "id": "13",
   "metadata": {
    "ExecuteTime": {
     "end_time": "2024-11-14T12:04:04.918188Z",
     "start_time": "2024-11-14T12:04:04.875427Z"
    }
   },
   "outputs": [
    {
     "name": "stdout",
     "output_type": "stream",
     "text": [
      "Solution results\n",
      "================\n",
      "  objective: 7.00\n",
      "lower bound: 7.00\n",
      "     status: Optimal\n",
      "    runtime: 0.00 seconds\n"
     ]
    }
   ],
   "source": [
    "result = m.solve(display=False)\n",
    "print(result)"
   ]
  },
  {
   "cell_type": "markdown",
   "id": "14",
   "metadata": {},
   "source": [
    "We found the optimal solution! Let's plot it now."
   ]
  },
  {
   "cell_type": "markdown",
   "id": "7qp3lizeb0s",
   "metadata": {},
   "source": [
    "### Understanding the solution\n",
    "\n",
    "Let's examine the optimal schedule. In the plot below, each task is labeled using LaTeX notation as $T_{jk}$ where:\n",
    "- $j$ represents the job index (0, 1, or 2)\n",
    "- $k$ represents the operation index within that job (0, 1, or 2 for first, second, or third operation)\n",
    "\n",
    "For example, $T_{10}$ means the first operation of Job 1, and $T_{21}$ means the second operation of Job 2."
   ]
  },
  {
   "cell_type": "code",
   "execution_count": 7,
   "id": "15",
   "metadata": {
    "ExecuteTime": {
     "end_time": "2024-11-14T12:04:05.073923Z",
     "start_time": "2024-11-14T12:04:04.921186Z"
    }
   },
   "outputs": [
    {
     "data": {
      "image/png": "[encoded data removed]",
      "text/plain": [
       "<Figure size 1200x800 with 1 Axes>"
      ]
     },
     "metadata": {},
     "output_type": "display_data"
    }
   ],
   "source": [
    "from pyjobshop.plot import plot_machine_gantt\n",
    "\n",
    "plot_machine_gantt(result.best, m.data(), plot_labels=True)"
   ]
  },
  {
   "cell_type": "markdown",
   "id": "b8ygk30r56j",
   "metadata": {},
   "source": [
    "From this Gantt chart, we can verify several things about the solution:\n",
    "\n",
    "1. Job sequencing: Each job's operations are processed in the correct order (operation 0 before operation 1 before operation 2)\n",
    "2. Machine assignment: Each job's operation is processed with an eligible machine based on the correct processing times\n",
    "3. Makespan: The total completion time is 7 time units, achieved when the last operation finishes\n"
   ]
  },
  {
   "cell_type": "markdown",
   "id": "16",
   "metadata": {},
   "source": [
    "## Summary\n",
    "This concludes the notebook. We showed how to set up an FJSP problem instance using PyJobShop's modeling interface. After setup, we solved the model and plotted the optimal solution."
   ]
  }
 ],
 "metadata": {
  "kernelspec": {
   "display_name": "Python 3 (ipykernel)",
   "language": "python",
   "name": "python3"
  },
  "language_info": {
   "codemirror_mode": {
    "name": "ipython",
    "version": 3
   },
   "file_extension": ".py",
   "mimetype": "text/x-python",
   "name": "python",
   "nbconvert_exporter": "python",
   "pygments_lexer": "ipython3",
   "version": "3.10.10"
  }
 },
 "nbformat": 4,
 "nbformat_minor": 5
}
