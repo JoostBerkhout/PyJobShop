{
 "cells": [
  {
   "cell_type": "markdown",
   "id": "0",
   "metadata": {},
   "source": [
    "# Hybrid flow shop\n",
    "\n",
    "[![Open In Colab](https://colab.research.google.com/assets/colab-badge.svg)](https://githubtocolab.com/PyJobShop/PyJobShop/blob/main/examples/hybrid_flow_shop.ipynb)\n",
    "\n",
    "> If you're using this notebook in Google Colab, be sure to install PyJobShop first by executing ```pip install pyjobshop``` in a cell.\n",
    "\n",
    "In this notebook, we demonstrate how to model and solve a hybrid flow shop (HFS) problem using PyJobShop.\n",
    "\n",
    "The HFS is a common manufacturing environment in practice and widely studied by scheduling researchers. See for example the surveys by [Ruiz and Vázquez-Rodríguez (2010)](https://www.sciencedirect.com/science/article/pii/S0377221709006390) and [Ribas et al. (2010)](https://www.sciencedirect.com/science/article/pii/S0305054809002883) for an overview of HFS studies."
   ]
  },
  {
   "cell_type": "markdown",
   "id": "1",
   "metadata": {},
   "source": [
    "## Problem description\n",
    "The HFS problem is characterized as follows:\n",
    "\n",
    "- There is a set of $n$ jobs that need to be processed in a series of stages.\n",
    "- The number of processing stages is at least 2.\n",
    "- Each stage has at least one machine in parallel, and in at least one stage there is more than one machine.\n",
    "- All jobs are processed in the same production order: production starts in stage 1, then stage 2, etc. until the last stage. A job can only start processing when it has finished processing in the previous stage.\n",
    "\n",
    "The figure below illustrates a small HFS manufacturing environment. The first stage has three machines, the second stage has two machines, and the third stage only has one machine. Each machine name $M_{kl}$ describes the stage $k$ and $l$-th machine in the stage. The machines in each stage are identical, meaning that each machine has the same processing speed for a given job.\n",
    "\n",
    "```\n",
    "Stage 0        Stage 1        Stage 2\n",
    "┌─────┐        ┌─────┐        ┌─────┐\n",
    "│ M00 │───┬───▶│ M10 │───┬───▶│ M20 │\n",
    "└─────┘   │    └─────┘   │    └─────┘\n",
    "          │              │\n",
    "┌─────┐   │    ┌─────┐   │\n",
    "│ M01 │───┼───▶│ M11 │───┘\n",
    "└─────┘   │    └─────┘\n",
    "          │\n",
    "┌─────┐   │\n",
    "│ M02 │───┘\n",
    "└─────┘\n",
    "```"
   ]
  },
  {
   "cell_type": "markdown",
   "id": "2",
   "metadata": {},
   "source": [
    "We can model an HFS problem using PyJobShop. Define a task $T_{jk}$ for each job $j$ and each stage $k$. Each task represents the processing of the given job at the given stage. We also need to make sure that the previous task $T_{j, k-1}$ is processed before $T_{jk}$ for $k > 1$.\n",
    "\n",
    "Let's now implement the above example using PyJobShop."
   ]
  },
  {
   "cell_type": "markdown",
   "id": "ba9fd6eb-806b-4bc9-8fec-c876f13f7247",
   "metadata": {},
   "source": [
    "## Data"
   ]
  },
  {
   "cell_type": "markdown",
   "id": "5b1fc135-3822-400d-abb3-3d5c8b880b78",
   "metadata": {},
   "source": [
    "We generate random processing times for the example that we showed earlier."
   ]
  },
  {
   "cell_type": "code",
   "execution_count": 1,
   "id": "3d8cb4df-d6f4-441c-868c-8948893fbbfa",
   "metadata": {},
   "outputs": [],
   "source": [
    "import random\n",
    "\n",
    "random.seed(42)\n",
    "\n",
    "num_jobs = 8\n",
    "num_stages = 3\n",
    "num_machines = [3, 2, 1]\n",
    "\n",
    "PROCESSING_TIMES = {\n",
    "    (job, stage): random.randint(5, 15)\n",
    "    for job in range(num_jobs)\n",
    "    for stage in range(num_stages)\n",
    "}"
   ]
  },
  {
   "cell_type": "markdown",
   "id": "5ee4b6db-7dbf-447d-b672-49621c785645",
   "metadata": {},
   "source": [
    "## Model \n",
    "Now that all our parameters are defined, we can start defining the model."
   ]
  },
  {
   "cell_type": "code",
   "execution_count": 2,
   "id": "6e61f798",
   "metadata": {},
   "outputs": [],
   "source": [
    "from pyjobshop import Model\n",
    "\n",
    "model = Model()"
   ]
  },
  {
   "cell_type": "markdown",
   "id": "3fd6019f-5add-477e-addc-60e4d084dc82",
   "metadata": {},
   "source": [
    "The following functions will nicely typeset the plot labels:"
   ]
  },
  {
   "cell_type": "code",
   "execution_count": null,
   "id": "0a83e360-b7ba-4e5e-bd00-67e11b3ca779",
   "metadata": {},
   "outputs": [],
   "source": [
    "def machine_name(stage: int, machine: int):\n",
    "    return f\"$M_{{{stage}{machine}}}$\"\n",
    "\n",
    "\n",
    "def task_name(job: int, stage: int):\n",
    "    return f\"$T_{{{job}{stage}}}$\""
   ]
  },
  {
   "cell_type": "markdown",
   "id": "8",
   "metadata": {},
   "source": [
    "First define the machine environment, where we group the machines by their stage:"
   ]
  },
  {
   "cell_type": "code",
   "execution_count": 3,
   "id": "9",
   "metadata": {},
   "outputs": [],
   "source": [
    "machines = [\n",
    "    [model.add_machine(name=machine_name(k, m)) for m in range(num)]\n",
    "    for k, num in enumerate(num_machines)\n",
    "]"
   ]
  },
  {
   "cell_type": "markdown",
   "id": "10",
   "metadata": {},
   "source": [
    "Now, we need to define jobs and the tasks that have to be scheduled."
   ]
  },
  {
   "cell_type": "code",
   "execution_count": 4,
   "id": "11",
   "metadata": {},
   "outputs": [],
   "source": [
    "jobs = [model.add_job() for _ in range(num_jobs)]\n",
    "tasks = {}\n",
    "\n",
    "for j, job in enumerate(jobs):\n",
    "    for k in range(num_stages):\n",
    "        tasks[j, k] = model.add_task(job, name=task_name(j, k))"
   ]
  },
  {
   "cell_type": "markdown",
   "id": "dd82b7e5-26c4-4f9e-919e-97390d8d9d6c",
   "metadata": {},
   "source": [
    "Next, we have to add processing times for each task through defining the corresponding modes. Remember that each task can be processed on every machine in its given stage, so we have to define a mode for every machine."
   ]
  },
  {
   "cell_type": "code",
   "execution_count": 5,
   "id": "e9cedb11-8f06-41d9-9011-6f5395e944c2",
   "metadata": {},
   "outputs": [],
   "source": [
    "for j in range(num_jobs):\n",
    "    for k in range(num_stages):\n",
    "        for machine in machines[k]:\n",
    "            task = tasks[j, k]\n",
    "            duration = PROCESSING_TIMES[j, k]\n",
    "            model.add_mode(task, machine, duration)"
   ]
  },
  {
   "cell_type": "markdown",
   "id": "762a17da-0f44-470f-af09-c98eeea9f531",
   "metadata": {},
   "source": [
    "The final restriction is to make sure that the previous task $T_{j, k-1}$ is processed before $T_{jk}$ for $k > 1$, which can be achieved by adding precedence constraints."
   ]
  },
  {
   "cell_type": "code",
   "execution_count": 6,
   "id": "f328d27e-892e-4642-b836-fd6a28b65ef9",
   "metadata": {},
   "outputs": [],
   "source": [
    "for j in range(num_jobs):\n",
    "    for k in range(num_stages - 1):\n",
    "        first = tasks[j, k]\n",
    "        second = tasks[j, k + 1]\n",
    "        model.add_end_before_start(first, second)"
   ]
  },
  {
   "cell_type": "markdown",
   "id": "de871504-f072-4950-aa39-2590eb4ffc66",
   "metadata": {},
   "source": [
    "That's it! We've completed the modeling of an HFS problem instance. Let's now solve it and plot the Gantt chart."
   ]
  },
  {
   "cell_type": "code",
   "execution_count": 7,
   "id": "12",
   "metadata": {},
   "outputs": [
    {
     "name": "stdout",
     "output_type": "stream",
     "text": [
      "Solution results\n",
      "================\n",
      "  objective: 88.00\n",
      "lower bound: 88.00\n",
      "     status: Optimal\n",
      "    runtime: 0.02 seconds\n"
     ]
    }
   ],
   "source": [
    "result = model.solve(display=False)\n",
    "print(result)"
   ]
  },
  {
   "cell_type": "code",
   "execution_count": 8,
   "id": "13",
   "metadata": {},
   "outputs": [
    {
     "data": {
      "image/png": "[encoded data removed]",
      "text/plain": [
       "<Figure size 1200x800 with 1 Axes>"
      ]
     },
     "metadata": {},
     "output_type": "display_data"
    }
   ],
   "source": [
    "from pyjobshop.plot import plot_machine_gantt\n",
    "\n",
    "data = model.data()\n",
    "plot_machine_gantt(result.best, model.data(), plot_labels=True)"
   ]
  },
  {
   "cell_type": "markdown",
   "id": "727b1716-0ddf-4d96-9a20-67894b89cc8e",
   "metadata": {},
   "source": [
    "Let's visually check a few things:\n",
    "- Each job is scheduled in each stage exactly once.\n",
    "- For each job, tasks on consecutive machines maintain proper sequencing (one completes before the next begins).\n",
    "\n",
    "Great! Let's look at a more complex version of HFS next."
   ]
  },
  {
   "cell_type": "markdown",
   "id": "ca4fd075-bc72-4840-b4c5-29edc49cc374",
   "metadata": {},
   "source": [
    "## Transportation restrictions"
   ]
  },
  {
   "cell_type": "markdown",
   "id": "08d3ed00-8214-4772-94c7-2f14856bf64c",
   "metadata": {},
   "source": [
    "In some manufacturing environments, there may be physical restrictions between machines that allow tasks only to be scheduled between machines that are connected to each other. For example, consider this enviroment:\n",
    "\n",
    "```\n",
    "Stage 0        Stage 1        Stage 2\n",
    "┌─────┐        ┌─────┐        ┌─────┐\n",
    "│ M00 │───────▶│ M10 │───┬───▶│ M20 │\n",
    "└─────┘        └─────┘   │    └─────┘\n",
    "                         │\n",
    "┌─────┐        ┌─────┐   │\n",
    "│ M01 │───┬───▶│ M11 │───┘\n",
    "└─────┘   │    └─────┘\n",
    "          │\n",
    "┌─────┐   │\n",
    "│ M02 │───┘\n",
    "└─────┘\n",
    "```\n",
    "The HFS in this case only allows jobs that are scheduled on $M_{00}$, to be consecutively processed on $M_{10}$ and not $M_{11}$. Similarliy, jobs that are scheduled on $M_{01}$ or $M_{02}$ can only be processed on $M_{11}$ afterwards."
   ]
  },
  {
   "cell_type": "markdown",
   "id": "3dfbbd7c-4124-4943-accc-26f7d248bbca",
   "metadata": {},
   "source": [
    "Let's start by copying the previous HFS example, where we additionally store the modes of each task."
   ]
  },
  {
   "cell_type": "code",
   "execution_count": 10,
   "id": "463623de-2208-4043-b887-1a054fc7c269",
   "metadata": {},
   "outputs": [
    {
     "ename": "NameError",
     "evalue": "name 'machine_name' is not defined",
     "output_type": "error",
     "traceback": [
      "\u001b[0;31m---------------------------------------------------------------------------\u001b[0m",
      "\u001b[0;31mNameError\u001b[0m                                 Traceback (most recent call last)",
      "Cell \u001b[0;32mIn[10], line 3\u001b[0m\n\u001b[1;32m      1\u001b[0m model \u001b[38;5;241m=\u001b[39m Model()\n\u001b[0;32m----> 3\u001b[0m machines \u001b[38;5;241m=\u001b[39m [\n\u001b[1;32m      4\u001b[0m     [model\u001b[38;5;241m.\u001b[39madd_machine(name\u001b[38;5;241m=\u001b[39mmachine_name(k, m)) \u001b[38;5;28;01mfor\u001b[39;00m m \u001b[38;5;129;01min\u001b[39;00m \u001b[38;5;28mrange\u001b[39m(num)]\n\u001b[1;32m      5\u001b[0m     \u001b[38;5;28;01mfor\u001b[39;00m k, num \u001b[38;5;129;01min\u001b[39;00m \u001b[38;5;28menumerate\u001b[39m(num_machines)\n\u001b[1;32m      6\u001b[0m ]\n\u001b[1;32m      7\u001b[0m jobs \u001b[38;5;241m=\u001b[39m [model\u001b[38;5;241m.\u001b[39madd_job() \u001b[38;5;28;01mfor\u001b[39;00m _ \u001b[38;5;129;01min\u001b[39;00m \u001b[38;5;28mrange\u001b[39m(num_jobs)]\n\u001b[1;32m      8\u001b[0m modes \u001b[38;5;241m=\u001b[39m [[] \u001b[38;5;28;01mfor\u001b[39;00m _ \u001b[38;5;129;01min\u001b[39;00m \u001b[38;5;28mrange\u001b[39m(num_jobs)]\n",
      "Cell \u001b[0;32mIn[10], line 4\u001b[0m, in \u001b[0;36m<listcomp>\u001b[0;34m(.0)\u001b[0m\n\u001b[1;32m      1\u001b[0m model \u001b[38;5;241m=\u001b[39m Model()\n\u001b[1;32m      3\u001b[0m machines \u001b[38;5;241m=\u001b[39m [\n\u001b[0;32m----> 4\u001b[0m     [model\u001b[38;5;241m.\u001b[39madd_machine(name\u001b[38;5;241m=\u001b[39mmachine_name(k, m)) \u001b[38;5;28;01mfor\u001b[39;00m m \u001b[38;5;129;01min\u001b[39;00m \u001b[38;5;28mrange\u001b[39m(num)]\n\u001b[1;32m      5\u001b[0m     \u001b[38;5;28;01mfor\u001b[39;00m k, num \u001b[38;5;129;01min\u001b[39;00m \u001b[38;5;28menumerate\u001b[39m(num_machines)\n\u001b[1;32m      6\u001b[0m ]\n\u001b[1;32m      7\u001b[0m jobs \u001b[38;5;241m=\u001b[39m [model\u001b[38;5;241m.\u001b[39madd_job() \u001b[38;5;28;01mfor\u001b[39;00m _ \u001b[38;5;129;01min\u001b[39;00m \u001b[38;5;28mrange\u001b[39m(num_jobs)]\n\u001b[1;32m      8\u001b[0m modes \u001b[38;5;241m=\u001b[39m [[] \u001b[38;5;28;01mfor\u001b[39;00m _ \u001b[38;5;129;01min\u001b[39;00m \u001b[38;5;28mrange\u001b[39m(num_jobs)]\n",
      "Cell \u001b[0;32mIn[10], line 4\u001b[0m, in \u001b[0;36m<listcomp>\u001b[0;34m(.0)\u001b[0m\n\u001b[1;32m      1\u001b[0m model \u001b[38;5;241m=\u001b[39m Model()\n\u001b[1;32m      3\u001b[0m machines \u001b[38;5;241m=\u001b[39m [\n\u001b[0;32m----> 4\u001b[0m     [model\u001b[38;5;241m.\u001b[39madd_machine(name\u001b[38;5;241m=\u001b[39m\u001b[43mmachine_name\u001b[49m(k, m)) \u001b[38;5;28;01mfor\u001b[39;00m m \u001b[38;5;129;01min\u001b[39;00m \u001b[38;5;28mrange\u001b[39m(num)]\n\u001b[1;32m      5\u001b[0m     \u001b[38;5;28;01mfor\u001b[39;00m k, num \u001b[38;5;129;01min\u001b[39;00m \u001b[38;5;28menumerate\u001b[39m(num_machines)\n\u001b[1;32m      6\u001b[0m ]\n\u001b[1;32m      7\u001b[0m jobs \u001b[38;5;241m=\u001b[39m [model\u001b[38;5;241m.\u001b[39madd_job() \u001b[38;5;28;01mfor\u001b[39;00m _ \u001b[38;5;129;01min\u001b[39;00m \u001b[38;5;28mrange\u001b[39m(num_jobs)]\n\u001b[1;32m      8\u001b[0m modes \u001b[38;5;241m=\u001b[39m [[] \u001b[38;5;28;01mfor\u001b[39;00m _ \u001b[38;5;129;01min\u001b[39;00m \u001b[38;5;28mrange\u001b[39m(num_jobs)]\n",
      "\u001b[0;31mNameError\u001b[0m: name 'machine_name' is not defined"
     ]
    }
   ],
   "source": [
    "model = Model()\n",
    "\n",
    "machines = [\n",
    "    [model.add_machine(name=machine_name(k, m)) for m in range(num)]\n",
    "    for k, num in enumerate(num_machines)\n",
    "]\n",
    "jobs = [model.add_job() for _ in range(num_jobs)]\n",
    "modes = [[] for _ in range(num_jobs)]\n",
    "\n",
    "for j, job in enumerate(jobs):\n",
    "    job_tasks = []\n",
    "\n",
    "    for k in range(num_stages):\n",
    "        task = model.add_task(job, name=task_name(j, k))\n",
    "        job_tasks.append(task)\n",
    "\n",
    "    for k in range(num_stages):\n",
    "        for m, machine in enumerate(machines[k]):\n",
    "            task = job_tasks[k]\n",
    "            duration = PROCESSING_TIMES[j, k]\n",
    "            mode = model.add_mode(task, machine, duration)\n",
    "            modes[j].append((mode, k, m))\n",
    "\n",
    "    for k in range(num_stages - 1):\n",
    "        first = job_tasks[k]\n",
    "        second = job_tasks[k + 1]\n",
    "        model.add_end_before_start(first, second)"
   ]
  },
  {
   "cell_type": "markdown",
   "id": "453d67fe-533a-412a-b113-86b3b4e1b7fd",
   "metadata": {},
   "source": [
    "To model transportation constraints, we can use the `ModeDependency` constraint. \n",
    "The mode dependency constraint works as follows: if a given mode is selected, then at least one mode out of a set of other modes must be selected.\n",
    "The way we can use this constraint is by stating that if a mode is selected (a task and machine pair) then we must select another mode (the next task with feasible machine) .\n",
    "\n",
    "Effectively, what we did is that we modeled each job as tasks.\n",
    "Each task has modes, meaning that it can be scheduled on a given machine.\n",
    "The mode dependency constraint can be used to restrict which modes can be selected."
   ]
  },
  {
   "cell_type": "code",
   "execution_count": null,
   "id": "4fb02931-e5a2-4707-84af-a0f966a52b65",
   "metadata": {},
   "outputs": [],
   "source": [
    "allowed = {  # tuples of (stage_idx, machine_idx)\n",
    "    (0, 0): [(1, 0)],\n",
    "    (0, 1): [(1, 1)],\n",
    "    (0, 2): [(1, 1)],\n",
    "}\n",
    "\n",
    "for mode, job_idx, stage_idx, machine_idx in modes:\n",
    "    if (stage_idx, machine_idx) in allowed:\n",
    "        # Find modes that may be selected if the current mode is selected.\n",
    "        OK = []\n",
    "        data = allowed[stage_idx, machine_idx]\n",
    "        for n_mode, n_job_idx, n_stage_idx, n_machine_idx in modes:\n",
    "            if job_idx == n_job_idx and (n_stage_idx, n_machine_idx) in data:\n",
    "                OK.append(n_mode)\n",
    "\n",
    "        model.add_mode_dependency(mode, OK)"
   ]
  },
  {
   "cell_type": "code",
   "execution_count": null,
   "id": "9d2c4992-990a-4f36-bead-5ba7cbef3342",
   "metadata": {},
   "outputs": [],
   "source": [
    "for mode, job_idx, stage_idx, machine_idx in modes:\n",
    "    if (stage_idx, machine_idx) in allowed:\n",
    "        # Find modes that may be selected if the current mode is selected.\n",
    "        OK = []\n",
    "        data = allowed[stage_idx, machine_idx]\n",
    "        for n_mode, n_job_idx, n_stage_idx, n_machine_idx in modes:\n",
    "            if job_idx == n_job_idx and (n_stage_idx, n_machine_idx) in data:\n",
    "                OK.append(n_mode)\n",
    "\n",
    "        model.add_mode_dependency(mode, OK)"
   ]
  },
  {
   "cell_type": "code",
   "execution_count": null,
   "id": "c7e9312b-a408-48e7-86f8-e37e327289ba",
   "metadata": {},
   "outputs": [],
   "source": [
    "result = model.solve(display=False)\n",
    "print(result)"
   ]
  },
  {
   "cell_type": "code",
   "execution_count": null,
   "id": "a0c97489-a70e-4bcb-8e0f-f17996a4ae40",
   "metadata": {},
   "outputs": [],
   "source": [
    "plot_machine_gantt(result.best, model.data(), plot_labels=True)"
   ]
  },
  {
   "cell_type": "markdown",
   "id": "201d919e-a444-4d0d-b848-ebe578c840ea",
   "metadata": {},
   "source": [
    "We can verify that tasks follow the transportation restrictions: \n",
    "- Jobs with tasks scheduled on machine $M_{00}$ must be processed next on machine $M_{10}$.\n",
    "- Jobs with tasks scheduled on machine $M_{01}$ and $M_{02}$ are processed next on machine $M_{11}$."
   ]
  },
  {
   "cell_type": "markdown",
   "id": "14",
   "metadata": {},
   "source": [
    "## Conclusion\n",
    "This notebook demonstrated how to model and solve hybrid flow shop problems using PyJobShop. We showed how to model:\n",
    "\n",
    "1. **Classic HFS**: Define tasks, modes, and precedence constraints to create a standard hybrid flow shop\n",
    "2. **HFS with transportation restrictions**: Use mode dependencies to restrict which machines can be used in sequence, modeling physical transportation restrictions in manufacturing environments\n",
    "\n",
    "The hybrid flow shop is a flexible scheduling environment that captures many real-world manufacturing scenarios where jobs must flow through stages with parallel machines.\n",
    "\n"
   ]
  }
 ],
 "metadata": {
  "kernelspec": {
   "display_name": "Python 3 (ipykernel)",
   "language": "python",
   "name": "python3"
  },
  "language_info": {
   "codemirror_mode": {
    "name": "ipython",
    "version": 3
   },
   "file_extension": ".py",
   "mimetype": "text/x-python",
   "name": "python",
   "nbconvert_exporter": "python",
   "pygments_lexer": "ipython3",
   "version": "3.10.10"
  }
 },
 "nbformat": 4,
 "nbformat_minor": 5
}
