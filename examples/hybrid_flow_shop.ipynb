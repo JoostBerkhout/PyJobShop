{
 "cells": [
  {
   "cell_type": "markdown",
   "id": "0",
   "metadata": {},
   "source": [
    "# Hybrid flow shop\n",
    "\n",
    "[![Open In Colab](https://colab.research.google.com/assets/colab-badge.svg)](https://githubtocolab.com/PyJobShop/PyJobShop/blob/main/examples/hybrid_flow_shop.ipynb)\n",
    "\n",
    "> If you're using this notebook in Google Colab, be sure to install PyJobShop first by executing ```pip install pyjobshop``` in a cell.\n",
    "\n",
    "In this notebook, we demonstrate how to model and solve a hybrid flow shop (HFS) problem using PyJobShop.\n",
    "\n",
    "The HFS is a common manufacturing environment in practice and widely studied by scheduling researchers. See for example the surveys by [Ruiz and Vázquez-Rodríguez (2010)](https://www.sciencedirect.com/science/article/pii/S0377221709006390) and [Ribas et al. (2010)](https://www.sciencedirect.com/science/article/pii/S0305054809002883) for an overview of HFS studies."
   ]
  },
  {
   "cell_type": "markdown",
   "id": "1",
   "metadata": {},
   "source": [
    "## Problem description\n",
    "The HFS problem is characterized as follows:\n",
    "\n",
    "- There is a set of $n$ jobs that need to be processed in a series of stages.\n",
    "- The number of processing stages is at least 2.\n",
    "- Each stage has at least one machine in parallel, and in at least one stage there is more than one machine.\n",
    "- All jobs are processed in the same production order: production starts in stage 1, then stage 2, etc. until the last stage. A job can only start processing when it has finished processing in the previous stage.\n",
    "\n",
    "The figure below illustrates a small HFS manufacturing environment. The first stage has three machines, the second stage has two machines, and the third stage only has one machine. Each machine name $M_{kl}$ describes the stage $k$ and $l$-th machine in the stage. The machines in each stage are identical, meaning that each machine has the same processing speed for a given job.\n",
    "\n",
    "```\n",
    "Stage 0        Stage 1        Stage 2\n",
    "┌─────┐        ┌─────┐        ┌─────┐\n",
    "│ M00 │───┬───▶│ M10 │───┬───▶│ M20 │\n",
    "└─────┘   │    └─────┘   │    └─────┘\n",
    "          │              │\n",
    "┌─────┐   │    ┌─────┐   │\n",
    "│ M01 │───┼───▶│ M11 │───┘\n",
    "└─────┘   │    └─────┘\n",
    "          │\n",
    "┌─────┐   │\n",
    "│ M02 │───┘\n",
    "└─────┘\n",
    "```"
   ]
  },
  {
   "cell_type": "markdown",
   "id": "2",
   "metadata": {},
   "source": [
    "We can model an HFS problem using PyJobShop. Define a task $T_{jk}$ for each job $j$ and each stage $k$. Each task represents the processing of the given job at the given stage. We also need to make sure that the previous task $T_{j, k-1}$ is processed before $T_{jk}$ for $k > 1$.\n",
    "\n",
    "Let's now implement the above example using PyJobShop."
   ]
  },
  {
   "cell_type": "markdown",
   "id": "ba9fd6eb-806b-4bc9-8fec-c876f13f7247",
   "metadata": {},
   "source": [
    "## Data"
   ]
  },
  {
   "cell_type": "markdown",
   "id": "5b1fc135-3822-400d-abb3-3d5c8b880b78",
   "metadata": {},
   "source": [
    "We generate random processing times for the example that we showed earlier."
   ]
  },
  {
   "cell_type": "code",
   "execution_count": 1,
   "id": "3d8cb4df-d6f4-441c-868c-8948893fbbfa",
   "metadata": {},
   "outputs": [],
   "source": [
    "import random\n",
    "\n",
    "random.seed(42)\n",
    "\n",
    "num_jobs = 8\n",
    "num_stages = 3\n",
    "num_machines = [3, 2, 1]\n",
    "\n",
    "PROCESSING_TIMES = {\n",
    "    (job, stage): random.randint(5, 15)\n",
    "    for job in range(num_jobs)\n",
    "    for stage in range(num_stages)\n",
    "}"
   ]
  },
  {
   "cell_type": "markdown",
   "id": "5ee4b6db-7dbf-447d-b672-49621c785645",
   "metadata": {},
   "source": [
    "## Model \n",
    "Now that all our parameters are defined, we can start defining the model."
   ]
  },
  {
   "cell_type": "code",
   "execution_count": 2,
   "id": "6e61f798",
   "metadata": {},
   "outputs": [],
   "source": [
    "from pyjobshop import Model\n",
    "\n",
    "model = Model()"
   ]
  },
  {
   "cell_type": "markdown",
   "id": "3fd6019f-5add-477e-addc-60e4d084dc82",
   "metadata": {},
   "source": [
    "The following functions will nicely typeset the plot labels:"
   ]
  },
  {
   "cell_type": "code",
   "execution_count": 3,
   "id": "0a83e360-b7ba-4e5e-bd00-67e11b3ca779",
   "metadata": {},
   "outputs": [],
   "source": [
    "def machine_name(stage: int, machine: int):\n",
    "    return f\"$M_{{{stage}{machine}}}$\"\n",
    "\n",
    "\n",
    "def task_name(job: int, stage: int):\n",
    "    return f\"$T_{{{job}{stage}}}$\""
   ]
  },
  {
   "cell_type": "markdown",
   "id": "8",
   "metadata": {},
   "source": [
    "First define the machine environment, where we group the machines by their stage:"
   ]
  },
  {
   "cell_type": "code",
   "execution_count": 4,
   "id": "9",
   "metadata": {},
   "outputs": [],
   "source": [
    "machines = [\n",
    "    [model.add_machine(name=machine_name(k, m)) for m in range(num)]\n",
    "    for k, num in enumerate(num_machines)\n",
    "]"
   ]
  },
  {
   "cell_type": "markdown",
   "id": "10",
   "metadata": {},
   "source": [
    "Now, we need to define jobs and the tasks that have to be scheduled."
   ]
  },
  {
   "cell_type": "code",
   "execution_count": 5,
   "id": "11",
   "metadata": {},
   "outputs": [],
   "source": [
    "jobs = [model.add_job() for _ in range(num_jobs)]\n",
    "tasks = {}\n",
    "\n",
    "for j, job in enumerate(jobs):\n",
    "    for k in range(num_stages):\n",
    "        tasks[j, k] = model.add_task(job, name=task_name(j, k))"
   ]
  },
  {
   "cell_type": "markdown",
   "id": "dd82b7e5-26c4-4f9e-919e-97390d8d9d6c",
   "metadata": {},
   "source": [
    "Next, we have to add processing times for each task through defining the corresponding modes. Remember that each task can be processed on every machine in its given stage, so we have to define a mode for every machine."
   ]
  },
  {
   "cell_type": "code",
   "execution_count": 6,
   "id": "e9cedb11-8f06-41d9-9011-6f5395e944c2",
   "metadata": {},
   "outputs": [],
   "source": [
    "for j in range(num_jobs):\n",
    "    for k in range(num_stages):\n",
    "        for machine in machines[k]:\n",
    "            task = tasks[j, k]\n",
    "            duration = PROCESSING_TIMES[j, k]\n",
    "            model.add_mode(task, machine, duration)"
   ]
  },
  {
   "cell_type": "markdown",
   "id": "762a17da-0f44-470f-af09-c98eeea9f531",
   "metadata": {},
   "source": [
    "The final restriction is to make sure that the previous task $T_{j, k-1}$ is processed before $T_{jk}$ for $k > 1$, which can be achieved by adding precedence constraints."
   ]
  },
  {
   "cell_type": "code",
   "execution_count": 7,
   "id": "f328d27e-892e-4642-b836-fd6a28b65ef9",
   "metadata": {},
   "outputs": [],
   "source": [
    "for j in range(num_jobs):\n",
    "    for k in range(num_stages - 1):\n",
    "        first = tasks[j, k]\n",
    "        second = tasks[j, k + 1]\n",
    "        model.add_end_before_start(first, second)"
   ]
  },
  {
   "cell_type": "markdown",
   "id": "de871504-f072-4950-aa39-2590eb4ffc66",
   "metadata": {},
   "source": [
    "That's it! We've completed the modeling of an HFS problem instance. Let's now solve it and plot the Gantt chart."
   ]
  },
  {
   "cell_type": "code",
   "execution_count": 8,
   "id": "12",
   "metadata": {},
   "outputs": [
    {
     "name": "stdout",
     "output_type": "stream",
     "text": [
      "Solution results\n",
      "================\n",
      "  objective: 88.00\n",
      "lower bound: 88.00\n",
      "     status: Optimal\n",
      "    runtime: 0.02 seconds\n"
     ]
    }
   ],
   "source": [
    "result = model.solve(display=False)\n",
    "print(result)"
   ]
  },
  {
   "cell_type": "code",
   "execution_count": 9,
   "id": "13",
   "metadata": {},
   "outputs": [
    {
     "data": {
      "image/png": "[encoded data removed]",
      "text/plain": [
       "<Figure size 1200x800 with 1 Axes>"
      ]
     },
     "metadata": {},
     "output_type": "display_data"
    }
   ],
   "source": [
    "from pyjobshop.plot import plot_machine_gantt\n",
    "\n",
    "data = model.data()\n",
    "plot_machine_gantt(result.best, model.data(), plot_labels=True)"
   ]
  },
  {
   "cell_type": "markdown",
   "id": "727b1716-0ddf-4d96-9a20-67894b89cc8e",
   "metadata": {},
   "source": [
    "Let's visually check a few things:\n",
    "- Each job is scheduled in each stage exactly once.\n",
    "- For each job, tasks on consecutive machines maintain proper sequencing (one completes before the next begins).\n",
    "\n",
    "Great! Let's look at a more complex version of HFS next."
   ]
  },
  {
   "cell_type": "markdown",
   "id": "ca4fd075-bc72-4840-b4c5-29edc49cc374",
   "metadata": {},
   "source": [
    "## Transportation restrictions"
   ]
  },
  {
   "cell_type": "markdown",
   "id": "08d3ed00-8214-4772-94c7-2f14856bf64c",
   "metadata": {},
   "source": [
    "In some manufacturing environments, there may be physical restrictions between machines that allow tasks only to be scheduled between machines that are connected to each other. For example, consider this enviroment:\n",
    "\n",
    "```\n",
    "Stage 0        Stage 1        Stage 2\n",
    "┌─────┐        ┌─────┐        ┌─────┐\n",
    "│ M00 │───────▶│ M10 │───┬───▶│ M20 │\n",
    "└─────┘        └─────┘   │    └─────┘\n",
    "                         │\n",
    "┌─────┐        ┌─────┐   │\n",
    "│ M01 │───┬───▶│ M11 │───┘\n",
    "└─────┘   │    └─────┘\n",
    "          │\n",
    "┌─────┐   │\n",
    "│ M02 │───┘\n",
    "└─────┘\n",
    "```\n",
    "The HFS in this case only allows jobs that are scheduled on $M_{00}$, to be consecutively processed on $M_{10}$ and not $M_{11}$. Similarliy, jobs that are scheduled on $M_{01}$ or $M_{02}$ can only be processed on $M_{11}$ afterwards."
   ]
  },
  {
   "cell_type": "markdown",
   "id": "3dfbbd7c-4124-4943-accc-26f7d248bbca",
   "metadata": {},
   "source": [
    "Let's start by copying the previous HFS example, where we additionally store the modes of each task."
   ]
  },
  {
   "cell_type": "code",
   "execution_count": 13,
   "id": "463623de-2208-4043-b887-1a054fc7c269",
   "metadata": {},
   "outputs": [],
   "source": [
    "model = Model()\n",
    "\n",
    "machines = [\n",
    "    [model.add_machine(name=machine_name(k, m)) for m in range(num)]\n",
    "    for k, num in enumerate(num_machines)\n",
    "]\n",
    "jobs = [model.add_job() for _ in range(num_jobs)]\n",
    "tasks = {}\n",
    "\n",
    "for j, job in enumerate(jobs):\n",
    "    for k in range(num_stages):\n",
    "        task = model.add_task(job, name=task_name(j, k))\n",
    "        tasks[j, k] = task\n",
    "\n",
    "    for k in range(num_stages):\n",
    "        for machine in machines[k]:\n",
    "            task = tasks[j, k]\n",
    "            duration = PROCESSING_TIMES[j, k]\n",
    "            model.add_mode(task, machine, duration)\n",
    "\n",
    "    for k in range(num_stages - 1):\n",
    "        first = tasks[j, k]\n",
    "        second = tasks[j, k + 1]\n",
    "        model.add_end_before_start(first, second)"
   ]
  },
  {
   "cell_type": "markdown",
   "id": "ab135964-82fa-4597-9a0b-50e7d476415b",
   "metadata": {},
   "source": [
    "To model transportation restrictions, we have to take a look at how we've defined the problem. Every job is split into multiple tasks, one for each stage. Each task has a set of modes, which represent the possible machine allocations. If we want to restrict the movement of a job, then we need to restrict which modes can be selected, depending on which of the previous modes were selected."
   ]
  },
  {
   "cell_type": "markdown",
   "id": "44583243-d9c2-4b40-84ef-50cb6233ccc3",
   "metadata": {},
   "source": [
    "To model such dependencies, we can use the `ModeDependency` constraint. The mode dependency constraint works as follows: if a given mode is selected, then at least one mode out of a set of other modes must be selected.\n",
    "\n",
    "The way we can use this constraint is by stating that if a mode is selected (a task and machine pair) then we must select another mode (the next task with a feasible machine)."
   ]
  },
  {
   "cell_type": "markdown",
   "id": "fd589739-7a66-4659-9ffc-2ef8e6a6fc0d",
   "metadata": {},
   "source": [
    "The following is mostly a \"data structure\" problem. We have to find the modes that belong to the same job, and then constrain which modes are dependent on each other. While we could have designed a more convenient data structure right at the start, this will also show how objects such as tasks and modes are internally represented in PyJobShop."
   ]
  },
  {
   "cell_type": "markdown",
   "id": "04ad32b4-decb-4731-b3ee-0a812e1cac3f",
   "metadata": {},
   "source": [
    "TODO: \n",
    "- organize modes by job ?\n",
    "- then add mode dependencies"
   ]
  },
  {
   "cell_type": "code",
   "execution_count": 66,
   "id": "dcdfc5bf-333b-4c6b-bb6f-21b86700c56b",
   "metadata": {},
   "outputs": [],
   "source": [
    "job2modes = [[] for _ in range(num_jobs)]\n",
    "\n",
    "for mode in model.modes:\n",
    "    job = model.tasks[mode.task].job\n",
    "    job2modes[job].append(mode)"
   ]
  },
  {
   "cell_type": "markdown",
   "id": "4909a28d-c2d7-4c12-9ccf-9ce123db14fa",
   "metadata": {},
   "source": [
    "Instead of using the machine index pairs, it's easier to use their actual resource index that PyJobShop uses internally:"
   ]
  },
  {
   "cell_type": "code",
   "execution_count": 24,
   "id": "5edc3477-62c1-4d03-a45b-d85cd92544de",
   "metadata": {
    "scrolled": true
   },
   "outputs": [
    {
     "name": "stdout",
     "output_type": "stream",
     "text": [
      "0 $M_{00}$\n",
      "1 $M_{01}$\n",
      "2 $M_{02}$\n",
      "3 $M_{10}$\n",
      "4 $M_{11}$\n",
      "5 $M_{20}$\n"
     ]
    }
   ],
   "source": [
    "for idx, resource in enumerate(model.resources):\n",
    "    print(idx, resource.name)"
   ]
  },
  {
   "cell_type": "code",
   "execution_count": 67,
   "id": "f8bf03eb-fb05-443b-a97f-16b135b7208f",
   "metadata": {},
   "outputs": [],
   "source": [
    "allowed = {0: 3, 1: 4, 2: 4}"
   ]
  },
  {
   "cell_type": "code",
   "execution_count": 69,
   "id": "e65a0c10-5b1d-431d-b5c0-61b32b757211",
   "metadata": {},
   "outputs": [],
   "source": [
    "for idx, modes1 in enumerate(job2modes):\n",
    "    modes2 = job2modes[idx]\n",
    "\n",
    "    for mode1 in modes1:\n",
    "        for mode2 in modes2:\n",
    "            machine1 = mode1.resources[0]\n",
    "            machine2 = mode2.resources[0]\n",
    "\n",
    "            if allowed.get(machine1) == machine2:\n",
    "                model.add_mode_dependency(mode1, [mode2])"
   ]
  },
  {
   "cell_type": "code",
   "execution_count": 71,
   "id": "c7e9312b-a408-48e7-86f8-e37e327289ba",
   "metadata": {},
   "outputs": [
    {
     "name": "stdout",
     "output_type": "stream",
     "text": [
      "Solution results\n",
      "================\n",
      "  objective: 88.00\n",
      "lower bound: 88.00\n",
      "     status: Optimal\n",
      "    runtime: 0.01 seconds\n"
     ]
    }
   ],
   "source": [
    "result = model.solve(display=False)\n",
    "print(result)"
   ]
  },
  {
   "cell_type": "code",
   "execution_count": 72,
   "id": "a0c97489-a70e-4bcb-8e0f-f17996a4ae40",
   "metadata": {},
   "outputs": [
    {
     "data": {
      "image/png": "[encoded data removed]",
      "text/plain": [
       "<Figure size 1200x800 with 1 Axes>"
      ]
     },
     "metadata": {},
     "output_type": "display_data"
    }
   ],
   "source": [
    "plot_machine_gantt(result.best, model.data(), plot_labels=True)"
   ]
  },
  {
   "cell_type": "markdown",
   "id": "201d919e-a444-4d0d-b848-ebe578c840ea",
   "metadata": {},
   "source": [
    "We can verify that tasks follow the transportation restrictions: \n",
    "- Jobs with tasks scheduled on machine $M_{00}$ must be processed next on machine $M_{10}$.\n",
    "- Jobs with tasks scheduled on machine $M_{01}$ and $M_{02}$ are processed next on machine $M_{11}$."
   ]
  },
  {
   "cell_type": "markdown",
   "id": "14",
   "metadata": {},
   "source": [
    "## Conclusion\n",
    "This notebook demonstrated how to model and solve hybrid flow shop problems using PyJobShop. We showed how to model:\n",
    "\n",
    "1. **Classic HFS**: Define tasks, modes, and precedence constraints to create a standard hybrid flow shop\n",
    "2. **HFS with transportation restrictions**: Use mode dependencies to restrict which machines can be used in sequence, modeling physical transportation restrictions in manufacturing environments\n",
    "\n",
    "The hybrid flow shop is a flexible scheduling environment that captures many real-world manufacturing scenarios where jobs must flow through stages with parallel machines.\n",
    "\n"
   ]
  }
 ],
 "metadata": {
  "kernelspec": {
   "display_name": "Python 3 (ipykernel)",
   "language": "python",
   "name": "python3"
  },
  "language_info": {
   "codemirror_mode": {
    "name": "ipython",
    "version": 3
   },
   "file_extension": ".py",
   "mimetype": "text/x-python",
   "name": "python",
   "nbconvert_exporter": "python",
   "pygments_lexer": "ipython3",
   "version": "3.11.12"
  }
 },
 "nbformat": 4,
 "nbformat_minor": 5
}
