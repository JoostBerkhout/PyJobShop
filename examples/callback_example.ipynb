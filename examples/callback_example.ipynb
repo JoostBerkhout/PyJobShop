{
 "cells": [
  {
   "cell_type": "markdown",
   "metadata": {},
   "source": [
    "# Callback example for permutation flow shop\n",
    "\n",
    "[![Open In Colab](https://colab.research.google.com/assets/colab-badge.svg)](https://githubtocolab.com/PyJobShop/PyJobShop/blob/main/examples/permutation_flow_shop.ipynb)\n",
    "\n",
    "> If you're using this notebook in Google Colab, be sure to install PyJobShop first by executing ```pip install pyjobshop``` in a cell.\n",
    "\n",
    "In this notebook, we demonstrate how to use a callback function when solving a permutation flow shop problem (PFSPs) using PyJobShop. The first instance given in the notebook \"permutation_flow_shop.ipynb\" is used for illustration purposes."
   ]
  },
  {
   "cell_type": "markdown",
   "metadata": {},
   "source": [
    "## Problem description\n",
    "\n",
    "The classic PFSP is characterized as follows:\n",
    "\n",
    "- There is a set of $n$ jobs that need to be processed on $m$ machines.\n",
    "- All jobs follow the same routing: they are processed first on machine 1, then on machine 2, and so on until machine $m$.\n",
    "- All jobs must be processed in the same sequence on all machines (permutation constraint).\n",
    "- Each job has a processing time on each machine.\n",
    "- The objective is typically to minimize the makespan."
   ]
  },
  {
   "cell_type": "markdown",
   "metadata": {},
   "source": [
    "\n",
    "We can model a PFSP using PyJobShop. For each job $j$ and each machine $k$, we define a task $T_{jk}$. We need precedence constraints to ensure that task $T_{j,k-1}$ is processed before $T_{jk}$ for $k > 1$, and sequence constraints to ensure the same job ordering on all machines."
   ]
  },
  {
   "cell_type": "markdown",
   "metadata": {},
   "source": [
    "## Data"
   ]
  },
  {
   "cell_type": "markdown",
   "metadata": {},
   "source": [
    "The data for a PFSP is often given by a processing times duration matrix, like this:"
   ]
  },
  {
   "cell_type": "code",
   "execution_count": null,
   "metadata": {},
   "outputs": [],
   "source": [
    "DURATIONS = [\n",
    "    [54, 79, 16, 66, 58],\n",
    "    [83, 3, 89, 58, 56],\n",
    "    [15, 11, 49, 31, 20],\n",
    "    [71, 99, 15, 68, 85],\n",
    "    [77, 56, 89, 78, 53],\n",
    "    [36, 70, 45, 91, 35],\n",
    "    [53, 99, 60, 13, 53],\n",
    "    [38, 60, 23, 59, 41],\n",
    "    [27, 5, 57, 49, 69],\n",
    "    [87, 56, 64, 85, 13],\n",
    "]\n",
    "\n",
    "num_jobs, num_machines = len(DURATIONS), len(DURATIONS[0])\n",
    "print(f\"Problem size: {num_jobs} jobs, {num_machines} machines\")"
   ]
  },
  {
   "cell_type": "markdown",
   "metadata": {},
   "source": [
    "## Model"
   ]
  },
  {
   "cell_type": "markdown",
   "metadata": {},
   "source": [
    "Let's now the model the PFSP. We start by adding all jobs and machines:"
   ]
  },
  {
   "cell_type": "code",
   "execution_count": null,
   "metadata": {},
   "outputs": [],
   "source": [
    "from pyjobshop import Model\n",
    "\n",
    "model = Model()\n",
    "jobs = [model.add_job() for _ in range(num_jobs)]\n",
    "machines = [model.add_machine() for _ in range(num_machines)]"
   ]
  },
  {
   "cell_type": "markdown",
   "metadata": {},
   "source": [
    "For each job and machine, we create one task and its corresponding processing mode."
   ]
  },
  {
   "cell_type": "code",
   "execution_count": null,
   "metadata": {},
   "outputs": [],
   "source": [
    "tasks = {}  # store for later\n",
    "\n",
    "for job_idx, job in enumerate(jobs):\n",
    "    for machine_idx, machine in enumerate(machines):\n",
    "        task = model.add_task(job=job)\n",
    "        tasks[job_idx, machine_idx] = task\n",
    "\n",
    "        duration = DURATIONS[job_idx][machine_idx]\n",
    "        model.add_mode(task, machine, duration=duration)"
   ]
  },
  {
   "cell_type": "markdown",
   "metadata": {},
   "source": [
    "We have to make sure that a job actually \"flows\" through the machine environment. This we can enforce by setting precedence constraints:"
   ]
  },
  {
   "cell_type": "code",
   "execution_count": null,
   "metadata": {},
   "outputs": [],
   "source": [
    "from itertools import pairwise\n",
    "\n",
    "for job_idx in range(num_jobs):\n",
    "    for idx1, idx2 in pairwise(range(num_machines)):\n",
    "        task1 = tasks[job_idx, idx1]\n",
    "        task2 = tasks[job_idx, idx2]\n",
    "        model.add_end_before_start(task1, task2)"
   ]
  },
  {
   "cell_type": "markdown",
   "metadata": {},
   "source": [
    "Finally, we impose the same sequence constraint, which ensures that all machines process all tasks in the same order:"
   ]
  },
  {
   "cell_type": "code",
   "execution_count": null,
   "metadata": {},
   "outputs": [],
   "source": [
    "for machine1, machine2 in pairwise(machines):\n",
    "    model.add_same_sequence(machine1, machine2)"
   ]
  },
  {
   "cell_type": "markdown",
   "metadata": {},
   "source": [
    "## Solving with CP-SAT callback\n",
    "\n",
    "Let's now solve the model with OR-Tools' CP-SAT using a callback that stores all solutions found along the way."
   ]
  },
  {
   "cell_type": "code",
   "execution_count": null,
   "metadata": {},
   "outputs": [],
   "source": [
    "from ortools.sat.python.cp_model import CpSolverSolutionCallback\n",
    "\n",
    "from pyjobshop.solve import solve_model_with_callback\n",
    "from pyjobshop.solvers.ortools import CPModel\n",
    "\n",
    "\n",
    "class SolutionCallback(CpSolverSolutionCallback):\n",
    "    def __init__(self, model: CPModel):\n",
    "        CpSolverSolutionCallback.__init__(self)\n",
    "        self._model = model\n",
    "        self.solutions = []\n",
    "\n",
    "    def on_solution_callback(self):\n",
    "        \"\"\"Method that is called by ortools when a new solution is found.\"\"\"\n",
    "        solution = self._model.convert_to_solution(self)\n",
    "        solution.objective_value = self.ObjectiveValue()\n",
    "        self.solutions.append(solution)\n",
    "\n",
    "\n",
    "cp_model = CPModel(model.data())\n",
    "callback = SolutionCallback(cp_model)\n",
    "result = solve_model_with_callback(cp_model, callback)\n",
    "\"\"\"\n",
    "The following also works but creates CPModel again:\n",
    "\n",
    "result = model.solve(callback=callback)\n",
    "\"\"\"\n",
    "print(result)"
   ]
  },
  {
   "cell_type": "markdown",
   "metadata": {},
   "source": [
    "Now let us plot the three best solutions found."
   ]
  },
  {
   "cell_type": "code",
   "execution_count": null,
   "metadata": {},
   "outputs": [],
   "source": [
    "from pyjobshop.plot import plot_machine_gantt\n",
    "\n",
    "for solution in callback.solutions[-3:]:\n",
    "    ax = plot_machine_gantt(solution, model.data())\n",
    "    ax.set_title(f\"Solution with objective value: {solution.objective_value}\")"
   ]
  },
  {
   "cell_type": "markdown",
   "metadata": {},
   "source": [
    "## Solving with CP Optimizer callback\n",
    "\n",
    "Similarly, we can also solve the model with CP Optimizer using a callback that stores all solutions found along the way.\n"
   ]
  },
  {
   "cell_type": "code",
   "execution_count": null,
   "metadata": {},
   "outputs": [],
   "source": [
    "from docplex.cp.solver.cpo_callback import CpoCallback\n",
    "\n",
    "from pyjobshop.solvers.cpoptimizer import CPModel as CpoCPModel\n",
    "\n",
    "try:\n",
    "    from ortools.sat.python.cp_model import CpSolverSolutionCallback\n",
    "except ImportError:\n",
    "    raise ImportError(\"CP Optimizer is not installed.\")\n",
    "\n",
    "\n",
    "class CpoSolutionCallback(CpoCallback):\n",
    "    def __init__(self, model: CPModel):\n",
    "        self._model = model\n",
    "        self.solutions = []\n",
    "\n",
    "    def invoke(self, solver, event, sres):\n",
    "        # This method is called at every solver event\n",
    "        if event == \"Solution\":\n",
    "            cpo_solution = sres.get_solution()\n",
    "            solution = self._model.convert_to_solution(cpo_solution)\n",
    "            solution.objective_value = cpo_solution.get_objective_values()[0]\n",
    "            self.solutions.append(solution)\n",
    "\n",
    "\n",
    "cpo_cp_model = CpoCPModel(model.data())\n",
    "cpo_callback = CpoSolutionCallback(cpo_cp_model)\n",
    "cpo_result = solve_model_with_callback(cpo_cp_model, cpo_callback)\n",
    "\"\"\"\n",
    "The following also works but creates CPModel again:\n",
    "\n",
    "cpo_result = model.solve(solver=\"cpoptimizer\", callback=cpo_callback)\n",
    "\"\"\"\n",
    "print(cpo_result)\n",
    "\n",
    "for solution in cpo_callback.solutions[-3:]:\n",
    "    ax = plot_machine_gantt(solution, model.data())\n",
    "    ax.set_title(f\"Solution with objective value: {solution.objective_value}\")"
   ]
  },
  {
   "cell_type": "markdown",
   "metadata": {},
   "source": [
    "## Conclusion\n",
    "\n",
    "This notebook demonstrated how to use a callback when solving a PFSP scheduling problems using PyJobShop. "
   ]
  }
 ],
 "metadata": {
  "kernelspec": {
   "display_name": "Python 3 (ipykernel)",
   "language": "python",
   "name": "python3"
  },
  "language_info": {
   "codemirror_mode": {
    "name": "ipython",
    "version": 3
   },
   "file_extension": ".py",
   "mimetype": "text/x-python",
   "name": "python",
   "nbconvert_exporter": "python",
   "pygments_lexer": "ipython3",
   "version": "3.10.10"
  }
 },
 "nbformat": 4,
 "nbformat_minor": 4
}
